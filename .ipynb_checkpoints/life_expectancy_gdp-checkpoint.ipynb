{
 "cells": [
  {
   "cell_type": "markdown",
   "metadata": {},
   "source": [
    "### Project scoping\n",
    "## Goals:\n",
    "Perform EDA on the GDP/Life Expectancy data set and draw conclusions about the relationships in the dataset\n",
    "## Steps:\n",
    "1. Set-up: load packages and data\n",
    "2. Initial exploration: look at dataset, descibe data, summary stats\n",
    "3. Draw conclusions from inital exploration\n",
    "4. Univariate analysis through visualizations\n",
    "5. Draw conclusions from univariate analysis\n",
    "6. Multivariate analysis through visualizaions\n",
    "7. Draw conclusions from multivariate analysis"
   ]
  },
  {
   "cell_type": "markdown",
   "metadata": {},
   "source": [
    "## Step 1: Set-up: load packages and data"
   ]
  },
  {
   "cell_type": "code",
   "execution_count": 9,
   "metadata": {},
   "outputs": [],
   "source": [
    "#load packages\n",
    "import pandas as pd\n",
    "import matplotlib.pyplot as plt\n",
    "import seaborn as sns\n",
    "import datetime as dt"
   ]
  },
  {
   "cell_type": "code",
   "execution_count": 21,
   "metadata": {},
   "outputs": [],
   "source": [
    "#read in data\n",
    "df = pd.read_csv('all_data.csv')"
   ]
  },
  {
   "cell_type": "markdown",
   "metadata": {},
   "source": [
    "## Step 2: Initial exploration: look at dataset, descibe data, summary stats"
   ]
  },
  {
   "cell_type": "code",
   "execution_count": 7,
   "metadata": {},
   "outputs": [
    {
     "name": "stdout",
     "output_type": "stream",
     "text": [
      "  Country  Year  Life expectancy at birth (years)           GDP\n",
      "0   Chile  2000                              77.3  7.786093e+10\n",
      "1   Chile  2001                              77.3  7.097992e+10\n",
      "2   Chile  2002                              77.8  6.973681e+10\n",
      "3   Chile  2003                              77.9  7.564346e+10\n",
      "4   Chile  2004                              78.0  9.921039e+10\n",
      "Country                              object\n",
      "Year                                  int64\n",
      "Life expectancy at birth (years)    float64\n",
      "GDP                                 float64\n",
      "dtype: object\n"
     ]
    }
   ],
   "source": [
    "#inspect data\n",
    "print(df.head())\n",
    "print(df.dtypes)"
   ]
  },
  {
   "cell_type": "code",
   "execution_count": 23,
   "metadata": {},
   "outputs": [
    {
     "name": "stdout",
     "output_type": "stream",
     "text": [
      "  Country        Year    LE           GDP\n",
      "0   Chile  2000-01-01  77.3  7.786093e+10\n",
      "1   Chile  2001-01-01  77.3  7.097992e+10\n",
      "2   Chile  2002-01-01  77.8  6.973681e+10\n",
      "3   Chile  2003-01-01  77.9  7.564346e+10\n",
      "4   Chile  2004-01-01  78.0  9.921039e+10\n"
     ]
    }
   ],
   "source": [
    "#change Year to be a date type\n",
    "#change long column name to be shorter\n",
    "df['Year'] = df.Year.apply(lambda x: dt.date(month = 1, day = 1, year = x))\n",
    "df.rename(columns={'Life expectancy at birth (years)': 'LE'}, inplace=True)\n",
    "\n",
    "print(df.head())"
   ]
  },
  {
   "cell_type": "code",
   "execution_count": 39,
   "metadata": {},
   "outputs": [
    {
     "name": "stdout",
     "output_type": "stream",
     "text": [
      "       Country        Year         LE           GDP\n",
      "count       96          96  96.000000  9.600000e+01\n",
      "unique       6          16        NaN           NaN\n",
      "top      Chile  2000-01-01        NaN           NaN\n",
      "freq        16           6        NaN           NaN\n",
      "mean       NaN         NaN  72.789583  3.880499e+12\n",
      "std        NaN         NaN  10.672882  5.197561e+12\n",
      "min        NaN         NaN  44.300000  4.415703e+09\n",
      "25%        NaN         NaN  74.475000  1.733018e+11\n",
      "50%        NaN         NaN  76.750000  1.280220e+12\n",
      "75%        NaN         NaN  78.900000  4.067510e+12\n",
      "max        NaN         NaN  81.000000  1.810000e+13\n",
      "<class 'pandas.core.frame.DataFrame'>\n",
      "RangeIndex: 96 entries, 0 to 95\n",
      "Data columns (total 4 columns):\n",
      " #   Column   Non-Null Count  Dtype  \n",
      "---  ------   --------------  -----  \n",
      " 0   Country  96 non-null     object \n",
      " 1   Year     96 non-null     object \n",
      " 2   LE       96 non-null     float64\n",
      " 3   GDP      96 non-null     float64\n",
      "dtypes: float64(2), object(2)\n",
      "memory usage: 3.1+ KB\n",
      "None\n"
     ]
    }
   ],
   "source": [
    "#describe data\n",
    "print(df.describe(include='all'))\n",
    "print(df.info())"
   ]
  },
  {
   "cell_type": "markdown",
   "metadata": {},
   "source": [
    "## Step 3: Draw conclusions from inital exploration"
   ]
  },
  {
   "cell_type": "markdown",
   "metadata": {},
   "source": [
    "## Step 4: Univariate analysis through visualizations"
   ]
  },
  {
   "cell_type": "markdown",
   "metadata": {},
   "source": [
    "## Step 5: Draw conclusions from univariate analysis\n",
    "\n"
   ]
  },
  {
   "cell_type": "markdown",
   "metadata": {},
   "source": [
    "## Step 6: Multivariate analysis through visualizaions"
   ]
  },
  {
   "cell_type": "markdown",
   "metadata": {},
   "source": [
    "## Step 7: Draw conclusions from multivariate analysis"
   ]
  },
  {
   "cell_type": "markdown",
   "metadata": {},
   "source": []
  }
 ],
 "metadata": {
  "kernelspec": {
   "display_name": "Python [conda env:base] *",
   "language": "python",
   "name": "conda-base-py"
  },
  "language_info": {
   "codemirror_mode": {
    "name": "ipython",
    "version": 3
   },
   "file_extension": ".py",
   "mimetype": "text/x-python",
   "name": "python",
   "nbconvert_exporter": "python",
   "pygments_lexer": "ipython3",
   "version": "3.12.7"
  }
 },
 "nbformat": 4,
 "nbformat_minor": 4
}
